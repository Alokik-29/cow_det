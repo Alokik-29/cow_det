{
  "nbformat": 4,
  "nbformat_minor": 0,
  "metadata": {
    "colab": {
      "provenance": [],
      "authorship_tag": "ABX9TyNhVLkjrY+p+FEsfqA+1jhf",
      "include_colab_link": true
    },
    "kernelspec": {
      "name": "python3",
      "display_name": "Python 3"
    },
    "language_info": {
      "name": "python"
    }
  },
  "cells": [
    {
      "cell_type": "markdown",
      "metadata": {
        "id": "view-in-github",
        "colab_type": "text"
      },
      "source": [
        "<a href=\"https://colab.research.google.com/github/Alokik-29/cow_det/blob/main/cow_det.ipynb\" target=\"_parent\"><img src=\"https://colab.research.google.com/assets/colab-badge.svg\" alt=\"Open In Colab\"/></a>"
      ]
    },
    {
      "cell_type": "code",
      "execution_count": 100,
      "metadata": {
        "colab": {
          "base_uri": "https://localhost:8080/"
        },
        "id": "ORcOrkWc5Jeh",
        "outputId": "9d3b714e-503f-47a0-f83f-86fcf098df0d"
      },
      "outputs": [
        {
          "output_type": "stream",
          "name": "stdout",
          "text": [
            "Path to dataset files: /kaggle/input/indian-bovine-breeds\n"
          ]
        }
      ],
      "source": [
        "import kagglehub\n",
        "\n",
        "# Download latest version\n",
        "path = kagglehub.dataset_download(\"lukex9442/indian-bovine-breeds\")\n",
        "\n",
        "print(\"Path to dataset files:\", path)"
      ]
    },
    {
      "cell_type": "code",
      "source": [
        "\n",
        "\n",
        "# Download latest version\n",
        "path2 = kagglehub.dataset_download(\"miadul/animal-image-classification-5-species\")\n",
        "\n",
        "print(\"Path to dataset files:\", path2)"
      ],
      "metadata": {
        "colab": {
          "base_uri": "https://localhost:8080/"
        },
        "id": "gTC2XKBy9Mr7",
        "outputId": "113185e3-d429-45a5-d3ad-95c0eb9fb12d"
      },
      "execution_count": 101,
      "outputs": [
        {
          "output_type": "stream",
          "name": "stdout",
          "text": [
            "Path to dataset files: /kaggle/input/animal-image-classification-5-species\n"
          ]
        }
      ]
    },
    {
      "cell_type": "code",
      "source": [
        "path\n",
        "path2"
      ],
      "metadata": {
        "colab": {
          "base_uri": "https://localhost:8080/",
          "height": 36
        },
        "id": "T9K4_SiC-z0H",
        "outputId": "eea76140-9ef7-41d1-a1ad-2d04cb3f924d"
      },
      "execution_count": 102,
      "outputs": [
        {
          "output_type": "execute_result",
          "data": {
            "text/plain": [
              "'/kaggle/input/animal-image-classification-5-species'"
            ],
            "application/vnd.google.colaboratory.intrinsic+json": {
              "type": "string"
            }
          },
          "metadata": {},
          "execution_count": 102
        }
      ]
    },
    {
      "cell_type": "code",
      "source": [
        "import os,shutil\n",
        "from sklearn.model_selection import train_test_split\n",
        "import random\n",
        "\n",
        "cow_path=path\n",
        "animal_path=path2\n",
        "base_dir =base_dir = \"/content/final_dataset\"\n",
        "classes = [\"Cow\", \"NotCow\"]"
      ],
      "metadata": {
        "id": "nvH9EmVU-__B"
      },
      "execution_count": 103,
      "outputs": []
    },
    {
      "cell_type": "code",
      "source": [
        "for split in [\"train\",\"test\"]:\n",
        "  for cls in classes:\n",
        "    os.makedirs(os.path.join(base_dir,split,cls),exist_ok=True)\n",
        ""
      ],
      "metadata": {
        "id": "CyOuhYvNAMcy"
      },
      "execution_count": 104,
      "outputs": []
    },
    {
      "cell_type": "code",
      "source": [
        "# Collect cow images (only from Indian Bovine dataset)\n",
        "cow_images=[]\n",
        "for root, dirs, files in os.walk(cow_path):\n",
        "  for f in files:\n",
        "    if f.lower().endswith((\"jpg\",\"jpeg\",\"png\")):\n",
        "            cow_images.append(os.path.join(root, f))\n",
        "\n",
        "random.shuffle(cow_images)\n",
        "cow_images = cow_images[:629]"
      ],
      "metadata": {
        "id": "jsMZ8BmtCBzl"
      },
      "execution_count": 105,
      "outputs": []
    },
    {
      "cell_type": "code",
      "source": [
        "# Collect non-cow images (exclude \"Cow\" class from the 5 species dataset)\n",
        "not_cow_images = []\n",
        "for root, dirs, files in os.walk(animal_path):\n",
        "    if \"Cow\" in root:   # Skip cow class in 5 species dataset\n",
        "        continue\n",
        "    for f in files:\n",
        "        if f.lower().endswith((\"jpg\",\"jpeg\",\"png\")):\n",
        "            not_cow_images.append(os.path.join(root, f))"
      ],
      "metadata": {
        "id": "dDUGdICDCjC2"
      },
      "execution_count": 106,
      "outputs": []
    },
    {
      "cell_type": "code",
      "source": [
        "print(\"Total Cow images:\", len(cow_images))\n",
        "print(\"Total Not-Cow images:\", len(not_cow_images))"
      ],
      "metadata": {
        "colab": {
          "base_uri": "https://localhost:8080/"
        },
        "id": "vzc7tmUeCtrv",
        "outputId": "52edeb5d-4126-48b1-e778-9c9acaebcc0c"
      },
      "execution_count": 107,
      "outputs": [
        {
          "output_type": "stream",
          "name": "stdout",
          "text": [
            "Total Cow images: 629\n",
            "Total Not-Cow images: 629\n"
          ]
        }
      ]
    },
    {
      "cell_type": "code",
      "source": [
        "# Train/Test Split\n",
        "def split_and_copy(images, cls_name):\n",
        "    train, test = train_test_split(images, test_size=0.2, random_state=42)\n",
        "\n",
        "    for img in train:\n",
        "        shutil.copy(img, os.path.join(base_dir, \"train\", cls_name))\n",
        "    for img in test:\n",
        "        shutil.copy(img, os.path.join(base_dir, \"test\", cls_name))\n",
        "\n",
        "split_and_copy(cow_images, \"Cow\")\n",
        "split_and_copy(not_cow_images, \"NotCow\")\n",
        "\n",
        "print(\"Dataset prepared at:\", base_dir)"
      ],
      "metadata": {
        "colab": {
          "base_uri": "https://localhost:8080/"
        },
        "id": "VzIP65VvDtPq",
        "outputId": "34c6c201-0cb2-43bb-c9e4-984e038240ba"
      },
      "execution_count": 108,
      "outputs": [
        {
          "output_type": "stream",
          "name": "stdout",
          "text": [
            "Dataset prepared at: /content/final_dataset\n"
          ]
        }
      ]
    },
    {
      "cell_type": "code",
      "source": [
        "import torch\n",
        "import torch.nn as nn\n",
        "import torch.optim as optim\n",
        "from torch.utils.data import DataLoader\n",
        "from torchvision import datasets, transforms, models"
      ],
      "metadata": {
        "id": "dXqncFgCDz96"
      },
      "execution_count": 109,
      "outputs": []
    },
    {
      "cell_type": "code",
      "source": [
        "# Image size for transfer learning (224x224 works well with ResNet/MobileNet)\n",
        "img_size = 224\n",
        "batch_size = 32\n",
        "\n",
        "train_transforms=transforms.Compose([\n",
        "    transforms.Resize((img_size,img_size)),\n",
        "    transforms.RandomHorizontalFlip(),\n",
        "    transforms.ToTensor(),\n",
        "    transforms.Normalize([0.485, 0.456, 0.406], [0.229, 0.224, 0.225])\n",
        "])\n",
        "\n",
        "test_transforms = transforms.Compose([\n",
        "    transforms.Resize((img_size, img_size)),\n",
        "    transforms.ToTensor(),\n",
        "    transforms.Normalize([0.485, 0.456, 0.406],\n",
        "                         [0.229, 0.224, 0.225])\n",
        "])\n",
        "\n",
        "train_data = datasets.ImageFolder(\"/content/final_dataset/train\", transform=train_transforms)\n",
        "test_data = datasets.ImageFolder(\"/content/final_dataset/test\", transform=test_transforms)\n",
        "\n",
        "train_loader = DataLoader(train_data, batch_size=batch_size, shuffle=True, num_workers=2, pin_memory=True)\n",
        "test_loader  = DataLoader(test_data, batch_size=batch_size, shuffle=False, num_workers=2, pin_memory=True)\n",
        "\n",
        "class_names = train_data.classes\n",
        "print(\"Classes:\", class_names)"
      ],
      "metadata": {
        "colab": {
          "base_uri": "https://localhost:8080/"
        },
        "id": "E3HE2EAaVOqQ",
        "outputId": "d2b01a51-f514-4d51-cb2f-e98e4a936b8c"
      },
      "execution_count": 110,
      "outputs": [
        {
          "output_type": "stream",
          "name": "stdout",
          "text": [
            "Classes: ['Cow', 'NotCow']\n"
          ]
        }
      ]
    },
    {
      "cell_type": "code",
      "source": [
        "device = torch.device(\"cuda\" if torch.cuda.is_available() else \"cpu\")\n",
        "\n",
        "# Load pretrained model\n",
        "model = models.resnet18(pretrained=True)\n",
        "\n",
        "# Replace final layer for binary classification first\n",
        "num_features = model.fc.in_features\n",
        "model.fc = nn.Linear(num_features, 1)\n",
        "\n",
        "# Freeze backbone\n",
        "for name, param in model.named_parameters():\n",
        "    if \"fc\" not in name:\n",
        "        param.requires_grad = False\n",
        "    else:\n",
        "        param.requires_grad = True  # ensure final layer is trainable\n",
        "\n",
        "# Update optimizer to train only the final layer\n",
        "optimizer = optim.Adam(filter(lambda p: p.requires_grad, model.parameters()), lr=1e-3)\n",
        "\n",
        "# Move model to device\n",
        "model = model.to(device)"
      ],
      "metadata": {
        "id": "UYYLrDRMW_0I"
      },
      "execution_count": 111,
      "outputs": []
    },
    {
      "cell_type": "code",
      "source": [
        "criterion = nn.BCEWithLogitsLoss()  # since we use single output neuron\n",
        "optimizer = optim.Adam(model.parameters(), lr=1e-4)"
      ],
      "metadata": {
        "id": "XbO2M_KqZZwc"
      },
      "execution_count": 112,
      "outputs": []
    },
    {
      "cell_type": "code",
      "source": [
        "def train_model(model,train_loader,test_loader,epochs=5):\n",
        "  for epoch in range(epochs):\n",
        "    model.train()\n",
        "    running_loss,correct,total=0.0,0,0\n",
        "\n",
        "    for images,labels in train_loader:\n",
        "      images, labels = images.to(device), labels.to(device).float().unsqueeze(1)\n",
        "\n",
        "      optimizer.zero_grad()\n",
        "      outputs=model(images)\n",
        "      loss=criterion(outputs,labels)\n",
        "      loss.backward()\n",
        "      optimizer.step()\n",
        "\n",
        "      running_loss +=loss.item()\n",
        "      preds =torch.sigmoid(outputs)>0.5\n",
        "      correct+= (preds==labels.byte()).sum().item()\n",
        "      total +=  labels.size(0)\n",
        "\n",
        "    train_acc=100* correct/total\n",
        "    print(f\"Epoch [{epoch+1}/{epochs}], Loss: {running_loss/len(train_loader):.4f}, Train Acc: {train_acc:.2f}%\")\n",
        "\n",
        "    #Validation\n",
        "    model.eval()\n",
        "    correct,total=0,0\n",
        "    with torch.no_grad():\n",
        "      for images,labels in test_loader:\n",
        "        images, labels = images.to(device), labels.to(device).float().unsqueeze(1)\n",
        "        outputs=model(images)\n",
        "        preds = torch.sigmoid(outputs) > 0.5\n",
        "        correct += (preds == labels.byte()).sum().item()\n",
        "        total += labels.size(0)\n",
        "    val_acc= 100*correct/total\n",
        "    print(f\"Validation Acc: {val_acc:.2f}%\\n\")"
      ],
      "metadata": {
        "id": "qdVU8Xq2ZjVw"
      },
      "execution_count": 113,
      "outputs": []
    },
    {
      "cell_type": "code",
      "source": [
        "train_model(model,train_loader,test_loader,epochs=5)"
      ],
      "metadata": {
        "id": "utxsXdorhiWM"
      },
      "execution_count": null,
      "outputs": []
    },
    {
      "cell_type": "code",
      "source": [],
      "metadata": {
        "id": "k3G4eo9nrL3E"
      },
      "execution_count": null,
      "outputs": []
    }
  ]
}